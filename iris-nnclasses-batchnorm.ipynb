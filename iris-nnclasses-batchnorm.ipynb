{
 "cells": [
  {
   "cell_type": "code",
   "execution_count": null,
   "id": "2aeedc4e",
   "metadata": {
    "papermill": {
     "duration": 0.007846,
     "end_time": "2024-10-22T04:06:07.166707",
     "exception": false,
     "start_time": "2024-10-22T04:06:07.158861",
     "status": "completed"
    },
    "tags": []
   },
   "outputs": [],
   "source": []
  },
  {
   "cell_type": "code",
   "execution_count": 1,
   "id": "17ed8b06",
   "metadata": {
    "_cell_guid": "b1076dfc-b9ad-4769-8c92-a6c4dae69d19",
    "_uuid": "8f2839f25d086af736a60e9eeb907d3b93b6e0e5",
    "execution": {
     "iopub.execute_input": "2024-10-22T04:06:07.182732Z",
     "iopub.status.busy": "2024-10-22T04:06:07.182300Z",
     "iopub.status.idle": "2024-10-22T04:06:08.172386Z",
     "shell.execute_reply": "2024-10-22T04:06:08.171135Z"
    },
    "papermill": {
     "duration": 1.001852,
     "end_time": "2024-10-22T04:06:08.175975",
     "exception": false,
     "start_time": "2024-10-22T04:06:07.174123",
     "status": "completed"
    },
    "tags": []
   },
   "outputs": [
    {
     "name": "stdout",
     "output_type": "stream",
     "text": [
      "/kaggle/input/iris/Iris.csv\n",
      "/kaggle/input/iris/database.sqlite\n"
     ]
    }
   ],
   "source": [
    "# This Python 3 environment comes with many helpful analytics libraries installed\n",
    "# It is defined by the kaggle/python Docker image: https://github.com/kaggle/docker-python\n",
    "# For example, here's several helpful packages to load\n",
    "\n",
    "import numpy as np # linear algebra\n",
    "import pandas as pd # data processing, CSV file I/O (e.g. pd.read_csv)\n",
    "\n",
    "# Input data files are available in the read-only \"../input/\" directory\n",
    "# For example, running this (by clicking run or pressing Shift+Enter) will list all files under the input directory\n",
    "\n",
    "import os\n",
    "for dirname, _, filenames in os.walk('/kaggle/input'):\n",
    "    for filename in filenames:\n",
    "        print(os.path.join(dirname, filename))\n",
    "\n",
    "# You can write up to 20GB to the current directory (/kaggle/working/) that gets preserved as output when you create a version using \"Save & Run All\" \n",
    "# You can also write temporary files to /kaggle/temp/, but they won't be saved outside of the current session"
   ]
  },
  {
   "cell_type": "code",
   "execution_count": 2,
   "id": "a1fffac5",
   "metadata": {
    "execution": {
     "iopub.execute_input": "2024-10-22T04:06:08.192035Z",
     "iopub.status.busy": "2024-10-22T04:06:08.191423Z",
     "iopub.status.idle": "2024-10-22T04:06:11.645467Z",
     "shell.execute_reply": "2024-10-22T04:06:11.644111Z"
    },
    "papermill": {
     "duration": 3.465361,
     "end_time": "2024-10-22T04:06:11.648500",
     "exception": false,
     "start_time": "2024-10-22T04:06:08.183139",
     "status": "completed"
    },
    "tags": []
   },
   "outputs": [],
   "source": [
    "import torch\n",
    "import torch.optim as optim\n",
    "import torch.nn as nn"
   ]
  },
  {
   "cell_type": "code",
   "execution_count": 3,
   "id": "989ed087",
   "metadata": {
    "execution": {
     "iopub.execute_input": "2024-10-22T04:06:11.664662Z",
     "iopub.status.busy": "2024-10-22T04:06:11.663188Z",
     "iopub.status.idle": "2024-10-22T04:06:11.674334Z",
     "shell.execute_reply": "2024-10-22T04:06:11.673236Z"
    },
    "papermill": {
     "duration": 0.022144,
     "end_time": "2024-10-22T04:06:11.677281",
     "exception": false,
     "start_time": "2024-10-22T04:06:11.655137",
     "status": "completed"
    },
    "tags": []
   },
   "outputs": [],
   "source": [
    "import torch.nn.init as init\n",
    "class Net(nn.Module):\n",
    "    def __init__(self,n_features=4):\n",
    "        super(Net,self).__init__()\n",
    "        self.fc1 = nn.Linear(n_features,100)\n",
    "        # Batch normalization after output\n",
    "        #self.bn1 = nn.BatchNorm1d(100)\n",
    "        self.fc2 = nn.Linear(100,50)\n",
    "        #self.bn2 = nn.BatchNorm1d(50)\n",
    "        self.fc3 = nn.Linear(50,3)\n",
    "        # Applying weight initialization techniques\n",
    "        init.kaiming_uniform_(self.fc1.weight)\n",
    "        init.kaiming_uniform_(self.fc2.weight)\n",
    "        init.kaiming_uniform_(self.fc3.weight, nonlinearity =\"sigmoid\")\n",
    "    def forward(self,inputs):\n",
    "        x = self.fc1(inputs)\n",
    "        #x = self.bn1(x)\n",
    "        x = nn.functional.elu(x)\n",
    "        x = self.fc2(x)\n",
    "        #x = self.bn2(x)\n",
    "        x = nn.functional.elu(x)\n",
    "        x = self.fc3(x)\n",
    "        return x\n",
    "    "
   ]
  },
  {
   "cell_type": "code",
   "execution_count": 4,
   "id": "f6e18d6a",
   "metadata": {
    "execution": {
     "iopub.execute_input": "2024-10-22T04:06:11.693560Z",
     "iopub.status.busy": "2024-10-22T04:06:11.693111Z",
     "iopub.status.idle": "2024-10-22T04:06:11.727938Z",
     "shell.execute_reply": "2024-10-22T04:06:11.726663Z"
    },
    "papermill": {
     "duration": 0.046229,
     "end_time": "2024-10-22T04:06:11.730886",
     "exception": false,
     "start_time": "2024-10-22T04:06:11.684657",
     "status": "completed"
    },
    "tags": []
   },
   "outputs": [],
   "source": [
    "net = Net()"
   ]
  },
  {
   "cell_type": "code",
   "execution_count": 5,
   "id": "5219a7d6",
   "metadata": {
    "execution": {
     "iopub.execute_input": "2024-10-22T04:06:11.746646Z",
     "iopub.status.busy": "2024-10-22T04:06:11.745777Z",
     "iopub.status.idle": "2024-10-22T04:06:11.760991Z",
     "shell.execute_reply": "2024-10-22T04:06:11.759686Z"
    },
    "papermill": {
     "duration": 0.026009,
     "end_time": "2024-10-22T04:06:11.763564",
     "exception": false,
     "start_time": "2024-10-22T04:06:11.737555",
     "status": "completed"
    },
    "tags": []
   },
   "outputs": [],
   "source": [
    "from torch.utils.data import TensorDataset, DataLoader, random_split\n",
    "import torch\n",
    "from torch.utils.data import TensorDataset, DataLoader, random_split\n",
    "\n",
    "class IrisDataset:\n",
    "    def __init__(self, data, targets, batch_size=32):\n",
    "        \"\"\"\n",
    "        Initialize the dataset with data, targets, and batch size.\n",
    "        \"\"\"\n",
    "        # Store data and targets as TensorDataset\n",
    "        self.dataset = TensorDataset(torch.tensor(data, dtype=torch.float32), \n",
    "                                     torch.tensor(targets, dtype=torch.long))\n",
    "        self.batch_size = batch_size\n",
    "\n",
    "    def get_splits(self, train_ratio=0.7, val_ratio=0.15):\n",
    "        \"\"\"\n",
    "        Split the dataset into train, validation, and test sets.\n",
    "        \"\"\"\n",
    "        total_size = len(self.dataset)\n",
    "        train_size = int(train_ratio * total_size)\n",
    "        val_size = int(val_ratio * total_size)\n",
    "        test_size = total_size - train_size - val_size\n",
    "\n",
    "        # Use random_split to create the splits\n",
    "        train_set, val_set, test_set = random_split(\n",
    "            self.dataset, [train_size, val_size, test_size]\n",
    "        )\n",
    "\n",
    "        return train_set, val_set, test_set\n",
    "\n",
    "    def get_dataloaders(self, train_set, val_set, test_set):\n",
    "        \"\"\"\n",
    "        Create DataLoaders for each split.\n",
    "        \"\"\"\n",
    "        train_loader = DataLoader(train_set, batch_size=self.batch_size, shuffle=True,drop_last = True)\n",
    "        val_loader = DataLoader(val_set, batch_size=self.batch_size, shuffle=False)\n",
    "        test_loader = DataLoader(test_set, batch_size=self.batch_size, shuffle=False)\n",
    "\n",
    "        return train_loader, val_loader, test_loader\n"
   ]
  },
  {
   "cell_type": "code",
   "execution_count": 6,
   "id": "94b3112e",
   "metadata": {
    "execution": {
     "iopub.execute_input": "2024-10-22T04:06:11.778885Z",
     "iopub.status.busy": "2024-10-22T04:06:11.778384Z",
     "iopub.status.idle": "2024-10-22T04:06:11.799470Z",
     "shell.execute_reply": "2024-10-22T04:06:11.797889Z"
    },
    "papermill": {
     "duration": 0.03235,
     "end_time": "2024-10-22T04:06:11.802503",
     "exception": false,
     "start_time": "2024-10-22T04:06:11.770153",
     "status": "completed"
    },
    "tags": []
   },
   "outputs": [],
   "source": [
    "import pandas as pd\n",
    "df = pd.read_csv('/kaggle/input/iris/Iris.csv')"
   ]
  },
  {
   "cell_type": "code",
   "execution_count": 7,
   "id": "2a032faa",
   "metadata": {
    "execution": {
     "iopub.execute_input": "2024-10-22T04:06:11.817235Z",
     "iopub.status.busy": "2024-10-22T04:06:11.816788Z",
     "iopub.status.idle": "2024-10-22T04:06:13.381799Z",
     "shell.execute_reply": "2024-10-22T04:06:13.380314Z"
    },
    "papermill": {
     "duration": 1.575914,
     "end_time": "2024-10-22T04:06:13.384812",
     "exception": false,
     "start_time": "2024-10-22T04:06:11.808898",
     "status": "completed"
    },
    "tags": []
   },
   "outputs": [],
   "source": [
    "import torch.nn.functional as F\n",
    "from sklearn.preprocessing import StandardScaler\n",
    "\n",
    "scaler = StandardScaler()\n",
    "features = df.iloc[:,1:5].to_numpy()\n",
    "features = scaler.fit_transform(features)\n",
    "targets,_ = pd.factorize(df.iloc[:,5])\n",
    "#Convert to tensors for target\n",
    "targets = F.one_hot(torch.tensor(targets),num_classes=3)"
   ]
  },
  {
   "cell_type": "code",
   "execution_count": 8,
   "id": "b238d1e1",
   "metadata": {
    "execution": {
     "iopub.execute_input": "2024-10-22T04:06:13.401540Z",
     "iopub.status.busy": "2024-10-22T04:06:13.400537Z",
     "iopub.status.idle": "2024-10-22T04:06:13.413115Z",
     "shell.execute_reply": "2024-10-22T04:06:13.411578Z"
    },
    "papermill": {
     "duration": 0.023541,
     "end_time": "2024-10-22T04:06:13.415811",
     "exception": false,
     "start_time": "2024-10-22T04:06:13.392270",
     "status": "completed"
    },
    "tags": []
   },
   "outputs": [
    {
     "data": {
      "text/plain": [
       "array([-0.90068117,  1.03205722, -1.3412724 , -1.31297673])"
      ]
     },
     "execution_count": 8,
     "metadata": {},
     "output_type": "execute_result"
    }
   ],
   "source": [
    "features[0]"
   ]
  },
  {
   "cell_type": "code",
   "execution_count": 9,
   "id": "241920d4",
   "metadata": {
    "execution": {
     "iopub.execute_input": "2024-10-22T04:06:13.431949Z",
     "iopub.status.busy": "2024-10-22T04:06:13.430505Z",
     "iopub.status.idle": "2024-10-22T04:06:13.448931Z",
     "shell.execute_reply": "2024-10-22T04:06:13.447269Z"
    },
    "papermill": {
     "duration": 0.029985,
     "end_time": "2024-10-22T04:06:13.452339",
     "exception": false,
     "start_time": "2024-10-22T04:06:13.422354",
     "status": "completed"
    },
    "tags": []
   },
   "outputs": [
    {
     "name": "stderr",
     "output_type": "stream",
     "text": [
      "/tmp/ipykernel_17/4132533968.py:12: UserWarning: To copy construct from a tensor, it is recommended to use sourceTensor.clone().detach() or sourceTensor.clone().detach().requires_grad_(True), rather than torch.tensor(sourceTensor).\n",
      "  torch.tensor(targets, dtype=torch.long))\n"
     ]
    }
   ],
   "source": [
    "iris_dataset = IrisDataset(features, targets, batch_size=4)\n",
    "\n",
    "    # Get train, validation, and test splits\n",
    "train_set, val_set, test_set = iris_dataset.get_splits()\n",
    "\n",
    "    # Create DataLoaders for each split\n",
    "train_loader, val_loader, test_loader = iris_dataset.get_dataloaders(train_set, val_set, test_set)\n"
   ]
  },
  {
   "cell_type": "code",
   "execution_count": 10,
   "id": "46d29757",
   "metadata": {
    "execution": {
     "iopub.execute_input": "2024-10-22T04:06:13.470881Z",
     "iopub.status.busy": "2024-10-22T04:06:13.470232Z",
     "iopub.status.idle": "2024-10-22T04:06:13.528092Z",
     "shell.execute_reply": "2024-10-22T04:06:13.526506Z"
    },
    "papermill": {
     "duration": 0.070871,
     "end_time": "2024-10-22T04:06:13.531577",
     "exception": false,
     "start_time": "2024-10-22T04:06:13.460706",
     "status": "completed"
    },
    "tags": []
   },
   "outputs": [
    {
     "data": {
      "text/plain": [
       "[tensor([[ 0.7957, -0.5878,  0.4784,  0.3962],\n",
       "         [-0.1737,  1.7263, -1.1707, -1.1815],\n",
       "         [ 0.3110, -0.3564,  0.5353,  0.2647],\n",
       "         [ 0.1898,  0.8007,  0.4216,  0.5276]]),\n",
       " tensor([[0, 1, 0],\n",
       "         [1, 0, 0],\n",
       "         [0, 1, 0],\n",
       "         [0, 1, 0]])]"
      ]
     },
     "execution_count": 10,
     "metadata": {},
     "output_type": "execute_result"
    }
   ],
   "source": [
    "next(iter(train_loader))"
   ]
  },
  {
   "cell_type": "code",
   "execution_count": 11,
   "id": "4ba704dd",
   "metadata": {
    "execution": {
     "iopub.execute_input": "2024-10-22T04:06:13.548427Z",
     "iopub.status.busy": "2024-10-22T04:06:13.547841Z",
     "iopub.status.idle": "2024-10-22T04:06:15.346934Z",
     "shell.execute_reply": "2024-10-22T04:06:15.345665Z"
    },
    "papermill": {
     "duration": 1.81129,
     "end_time": "2024-10-22T04:06:15.350179",
     "exception": false,
     "start_time": "2024-10-22T04:06:13.538889",
     "status": "completed"
    },
    "tags": []
   },
   "outputs": [],
   "source": [
    "from torch.nn import CrossEntropyLoss\n",
    "criterion = CrossEntropyLoss()\n",
    "optimizer = optim.Adam(net.parameters(), lr = 1e-3)\n",
    "num_epochs = 50"
   ]
  },
  {
   "cell_type": "code",
   "execution_count": 12,
   "id": "fb69236f",
   "metadata": {
    "execution": {
     "iopub.execute_input": "2024-10-22T04:06:15.367265Z",
     "iopub.status.busy": "2024-10-22T04:06:15.366637Z",
     "iopub.status.idle": "2024-10-22T04:06:15.375916Z",
     "shell.execute_reply": "2024-10-22T04:06:15.374562Z"
    },
    "papermill": {
     "duration": 0.021384,
     "end_time": "2024-10-22T04:06:15.379062",
     "exception": false,
     "start_time": "2024-10-22T04:06:15.357678",
     "status": "completed"
    },
    "tags": []
   },
   "outputs": [],
   "source": [
    "def train(model,num_epochs,criterion,optimizer,dataloader):\n",
    "    model.train()\n",
    "    for epoch in range(num_epochs):\n",
    "        total_loss = 0.0\n",
    "        batch_count = 0\n",
    "        for batch in dataloader:\n",
    "            optimizer.zero_grad()\n",
    "            #forward pass\n",
    "            features,labels = batch\n",
    "            preds = model(features)\n",
    "            #print(\"Predictions = \", preds)\n",
    "            #Calculate loss\n",
    "            loss = criterion(preds,labels.argmax(dim = -1))\n",
    "            #backward pass\n",
    "            loss.backward()\n",
    "            #Update model weights\n",
    "            optimizer.step()\n",
    "            #calculate mean loss\n",
    "            total_loss += loss.item()\n",
    "            batch_count +=1\n",
    "        mean_loss = total_loss/batch_count\n",
    "        print(f\"Epoch : {epoch+1}, mean loss : {mean_loss}\")"
   ]
  },
  {
   "cell_type": "code",
   "execution_count": 13,
   "id": "9e11f7a3",
   "metadata": {
    "execution": {
     "iopub.execute_input": "2024-10-22T04:06:15.395377Z",
     "iopub.status.busy": "2024-10-22T04:06:15.394844Z",
     "iopub.status.idle": "2024-10-22T04:06:15.403708Z",
     "shell.execute_reply": "2024-10-22T04:06:15.402439Z"
    },
    "papermill": {
     "duration": 0.019959,
     "end_time": "2024-10-22T04:06:15.406289",
     "exception": false,
     "start_time": "2024-10-22T04:06:15.386330",
     "status": "completed"
    },
    "tags": []
   },
   "outputs": [
    {
     "data": {
      "text/plain": [
       "26"
      ]
     },
     "execution_count": 13,
     "metadata": {},
     "output_type": "execute_result"
    }
   ],
   "source": [
    "len(train_loader)"
   ]
  },
  {
   "cell_type": "code",
   "execution_count": 14,
   "id": "70749010",
   "metadata": {
    "execution": {
     "iopub.execute_input": "2024-10-22T04:06:15.424017Z",
     "iopub.status.busy": "2024-10-22T04:06:15.423416Z",
     "iopub.status.idle": "2024-10-22T04:06:19.294204Z",
     "shell.execute_reply": "2024-10-22T04:06:19.292698Z"
    },
    "papermill": {
     "duration": 3.882806,
     "end_time": "2024-10-22T04:06:19.296820",
     "exception": false,
     "start_time": "2024-10-22T04:06:15.414014",
     "status": "completed"
    },
    "tags": []
   },
   "outputs": [
    {
     "name": "stdout",
     "output_type": "stream",
     "text": [
      "Epoch : 1, mean loss : 0.6820293994477162\n",
      "Epoch : 2, mean loss : 0.3197017124352547\n",
      "Epoch : 3, mean loss : 0.2512810413654034\n",
      "Epoch : 4, mean loss : 0.18725086877552363\n",
      "Epoch : 5, mean loss : 0.1492792537364249\n",
      "Epoch : 6, mean loss : 0.12152757609706336\n",
      "Epoch : 7, mean loss : 0.09932168045914015\n",
      "Epoch : 8, mean loss : 0.09230511134060529\n",
      "Epoch : 9, mean loss : 0.08335785428509833\n",
      "Epoch : 10, mean loss : 0.07060415885755972\n",
      "Epoch : 11, mean loss : 0.0652409644222084\n",
      "Epoch : 12, mean loss : 0.06186674135992339\n",
      "Epoch : 13, mean loss : 0.05445261108868111\n",
      "Epoch : 14, mean loss : 0.05510119931736531\n",
      "Epoch : 15, mean loss : 0.05453064917674055\n",
      "Epoch : 16, mean loss : 0.044079740021306164\n",
      "Epoch : 17, mean loss : 0.04875964710887414\n",
      "Epoch : 18, mean loss : 0.04165300543536432\n",
      "Epoch : 19, mean loss : 0.0407784567192161\n",
      "Epoch : 20, mean loss : 0.04415127632651442\n",
      "Epoch : 21, mean loss : 0.036624022100183465\n",
      "Epoch : 22, mean loss : 0.03318937283564502\n",
      "Epoch : 23, mean loss : 0.04310176677664948\n",
      "Epoch : 24, mean loss : 0.038658519667268805\n",
      "Epoch : 25, mean loss : 0.03049762155261795\n",
      "Epoch : 26, mean loss : 0.0283846324217358\n",
      "Epoch : 27, mean loss : 0.033465243595716086\n",
      "Epoch : 28, mean loss : 0.03588064391246567\n",
      "Epoch : 29, mean loss : 0.02724237232177984\n",
      "Epoch : 30, mean loss : 0.029510046556494602\n",
      "Epoch : 31, mean loss : 0.03801193551869521\n",
      "Epoch : 32, mean loss : 0.032335551354313236\n",
      "Epoch : 33, mean loss : 0.030467091453549353\n",
      "Epoch : 34, mean loss : 0.03329438783014037\n",
      "Epoch : 35, mean loss : 0.031818796873197316\n",
      "Epoch : 36, mean loss : 0.030775607090058308\n",
      "Epoch : 37, mean loss : 0.02836197617356307\n",
      "Epoch : 38, mean loss : 0.023850705366297777\n",
      "Epoch : 39, mean loss : 0.025085339939043758\n",
      "Epoch : 40, mean loss : 0.025740362191264958\n",
      "Epoch : 41, mean loss : 0.023773615322939944\n",
      "Epoch : 42, mean loss : 0.023682484700867253\n",
      "Epoch : 43, mean loss : 0.018772825435847223\n",
      "Epoch : 44, mean loss : 0.02740548253831758\n",
      "Epoch : 45, mean loss : 0.020235853145585188\n",
      "Epoch : 46, mean loss : 0.02349051328844955\n",
      "Epoch : 47, mean loss : 0.021929128721685977\n",
      "Epoch : 48, mean loss : 0.02029609641865066\n",
      "Epoch : 49, mean loss : 0.02774728178148787\n",
      "Epoch : 50, mean loss : 0.031923424593934706\n",
      "Epoch : 51, mean loss : 0.02181714780503031\n",
      "Epoch : 52, mean loss : 0.031076489131499747\n",
      "Epoch : 53, mean loss : 0.016936038206879927\n",
      "Epoch : 54, mean loss : 0.020904778010844893\n",
      "Epoch : 55, mean loss : 0.017240883456277237\n",
      "Epoch : 56, mean loss : 0.020629652501436516\n",
      "Epoch : 57, mean loss : 0.03040938848868371\n",
      "Epoch : 58, mean loss : 0.02411412267558542\n",
      "Epoch : 59, mean loss : 0.019305497002593396\n",
      "Epoch : 60, mean loss : 0.014946165772576374\n",
      "Epoch : 61, mean loss : 0.014314782366140068\n",
      "Epoch : 62, mean loss : 0.014964953470212095\n",
      "Epoch : 63, mean loss : 0.01352120700301804\n",
      "Epoch : 64, mean loss : 0.01047658978385558\n",
      "Epoch : 65, mean loss : 0.014617760874338833\n",
      "Epoch : 66, mean loss : 0.01184241178144965\n",
      "Epoch : 67, mean loss : 0.01348938532106121\n",
      "Epoch : 68, mean loss : 0.011308877438558249\n",
      "Epoch : 69, mean loss : 0.0120637647167034\n",
      "Epoch : 70, mean loss : 0.010723501869123835\n",
      "Epoch : 71, mean loss : 0.010450601706767114\n",
      "Epoch : 72, mean loss : 0.012629447882230894\n",
      "Epoch : 73, mean loss : 0.01331454715621196\n",
      "Epoch : 74, mean loss : 0.015725395251453077\n",
      "Epoch : 75, mean loss : 0.011522246813460523\n",
      "Epoch : 76, mean loss : 0.013865829908096518\n",
      "Epoch : 77, mean loss : 0.012623281329961874\n",
      "Epoch : 78, mean loss : 0.018073912956511916\n",
      "Epoch : 79, mean loss : 0.012968183275111537\n",
      "Epoch : 80, mean loss : 0.024759215531044168\n",
      "Epoch : 81, mean loss : 0.01347659680688469\n",
      "Epoch : 82, mean loss : 0.009220511421012554\n",
      "Epoch : 83, mean loss : 0.010533166344395103\n",
      "Epoch : 84, mean loss : 0.013174925887387171\n",
      "Epoch : 85, mean loss : 0.009286678331527845\n",
      "Epoch : 86, mean loss : 0.010442106677970742\n",
      "Epoch : 87, mean loss : 0.008386704210929215\n",
      "Epoch : 88, mean loss : 0.008121668568229814\n",
      "Epoch : 89, mean loss : 0.01086862438683712\n",
      "Epoch : 90, mean loss : 0.005557199767106515\n",
      "Epoch : 91, mean loss : 0.006535277361798273\n",
      "Epoch : 92, mean loss : 0.005951564095660444\n",
      "Epoch : 93, mean loss : 0.0059751432587540005\n",
      "Epoch : 94, mean loss : 0.005607101562483981\n",
      "Epoch : 95, mean loss : 0.005808138353472714\n",
      "Epoch : 96, mean loss : 0.005226507915030363\n",
      "Epoch : 97, mean loss : 0.005819469510850644\n",
      "Epoch : 98, mean loss : 0.005753591474543189\n",
      "Epoch : 99, mean loss : 0.005280151338765266\n",
      "Epoch : 100, mean loss : 0.004592683187089309\n"
     ]
    }
   ],
   "source": [
    "train(net,100,criterion,optimizer,train_loader)"
   ]
  },
  {
   "cell_type": "raw",
   "id": "fdbeb8e9",
   "metadata": {
    "papermill": {
     "duration": 0.008239,
     "end_time": "2024-10-22T04:06:19.314690",
     "exception": false,
     "start_time": "2024-10-22T04:06:19.306451",
     "status": "completed"
    },
    "tags": []
   },
   "source": []
  },
  {
   "cell_type": "code",
   "execution_count": null,
   "id": "89c86c29",
   "metadata": {
    "papermill": {
     "duration": 0.008303,
     "end_time": "2024-10-22T04:06:19.331568",
     "exception": false,
     "start_time": "2024-10-22T04:06:19.323265",
     "status": "completed"
    },
    "tags": []
   },
   "outputs": [],
   "source": []
  }
 ],
 "metadata": {
  "kaggle": {
   "accelerator": "none",
   "dataSources": [
    {
     "datasetId": 19,
     "sourceId": 420,
     "sourceType": "datasetVersion"
    }
   ],
   "dockerImageVersionId": 30786,
   "isGpuEnabled": false,
   "isInternetEnabled": false,
   "language": "python",
   "sourceType": "notebook"
  },
  "kernelspec": {
   "display_name": "Python 3",
   "language": "python",
   "name": "python3"
  },
  "language_info": {
   "codemirror_mode": {
    "name": "ipython",
    "version": 3
   },
   "file_extension": ".py",
   "mimetype": "text/x-python",
   "name": "python",
   "nbconvert_exporter": "python",
   "pygments_lexer": "ipython3",
   "version": "3.10.14"
  },
  "papermill": {
   "default_parameters": {},
   "duration": 17.033706,
   "end_time": "2024-10-22T04:06:20.767659",
   "environment_variables": {},
   "exception": null,
   "input_path": "__notebook__.ipynb",
   "output_path": "__notebook__.ipynb",
   "parameters": {},
   "start_time": "2024-10-22T04:06:03.733953",
   "version": "2.6.0"
  }
 },
 "nbformat": 4,
 "nbformat_minor": 5
}
