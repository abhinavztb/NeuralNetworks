{
 "cells": [
  {
   "cell_type": "code",
   "execution_count": 1,
   "id": "60f67e39",
   "metadata": {
    "_cell_guid": "b1076dfc-b9ad-4769-8c92-a6c4dae69d19",
    "_uuid": "8f2839f25d086af736a60e9eeb907d3b93b6e0e5",
    "execution": {
     "iopub.execute_input": "2024-10-15T22:51:50.577178Z",
     "iopub.status.busy": "2024-10-15T22:51:50.576720Z",
     "iopub.status.idle": "2024-10-15T22:51:51.482146Z",
     "shell.execute_reply": "2024-10-15T22:51:51.480799Z"
    },
    "papermill": {
     "duration": 0.919608,
     "end_time": "2024-10-15T22:51:51.484679",
     "exception": false,
     "start_time": "2024-10-15T22:51:50.565071",
     "status": "completed"
    },
    "tags": []
   },
   "outputs": [
    {
     "name": "stdout",
     "output_type": "stream",
     "text": [
      "/kaggle/input/lifestyle-factors-influencing-osteoporosis/osteoporosis.csv\n"
     ]
    }
   ],
   "source": [
    "# This Python 3 environment comes with many helpful analytics libraries installed\n",
    "# It is defined by the kaggle/python Docker image: https://github.com/kaggle/docker-python\n",
    "# For example, here's several helpful packages to load\n",
    "\n",
    "import numpy as np # linear algebra\n",
    "import pandas as pd # data processing, CSV file I/O (e.g. pd.read_csv)\n",
    "\n",
    "# Input data files are available in the read-only \"../input/\" directory\n",
    "# For example, running this (by clicking run or pressing Shift+Enter) will list all files under the input directory\n",
    "\n",
    "import os\n",
    "for dirname, _, filenames in os.walk('/kaggle/input'):\n",
    "    for filename in filenames:\n",
    "        print(os.path.join(dirname, filename))\n",
    "\n",
    "# You can write up to 20GB to the current directory (/kaggle/working/) that gets preserved as output when you create a version using \"Save & Run All\" \n",
    "# You can also write temporary files to /kaggle/temp/, but they won't be saved outside of the current session"
   ]
  },
  {
   "cell_type": "code",
   "execution_count": 2,
   "id": "bb98728b",
   "metadata": {
    "execution": {
     "iopub.execute_input": "2024-10-15T22:51:51.504669Z",
     "iopub.status.busy": "2024-10-15T22:51:51.503218Z",
     "iopub.status.idle": "2024-10-15T22:51:51.530200Z",
     "shell.execute_reply": "2024-10-15T22:51:51.528943Z"
    },
    "papermill": {
     "duration": 0.039992,
     "end_time": "2024-10-15T22:51:51.533067",
     "exception": false,
     "start_time": "2024-10-15T22:51:51.493075",
     "status": "completed"
    },
    "tags": []
   },
   "outputs": [],
   "source": [
    "import pandas as pd\n",
    "df = pd.read_csv('/kaggle/input/lifestyle-factors-influencing-osteoporosis/osteoporosis.csv')"
   ]
  },
  {
   "cell_type": "code",
   "execution_count": 3,
   "id": "ad203a98",
   "metadata": {
    "execution": {
     "iopub.execute_input": "2024-10-15T22:51:51.551104Z",
     "iopub.status.busy": "2024-10-15T22:51:51.550685Z",
     "iopub.status.idle": "2024-10-15T22:51:51.577798Z",
     "shell.execute_reply": "2024-10-15T22:51:51.576659Z"
    },
    "papermill": {
     "duration": 0.038916,
     "end_time": "2024-10-15T22:51:51.580224",
     "exception": false,
     "start_time": "2024-10-15T22:51:51.541308",
     "status": "completed"
    },
    "tags": []
   },
   "outputs": [
    {
     "data": {
      "text/html": [
       "<div>\n",
       "<style scoped>\n",
       "    .dataframe tbody tr th:only-of-type {\n",
       "        vertical-align: middle;\n",
       "    }\n",
       "\n",
       "    .dataframe tbody tr th {\n",
       "        vertical-align: top;\n",
       "    }\n",
       "\n",
       "    .dataframe thead th {\n",
       "        text-align: right;\n",
       "    }\n",
       "</style>\n",
       "<table border=\"1\" class=\"dataframe\">\n",
       "  <thead>\n",
       "    <tr style=\"text-align: right;\">\n",
       "      <th></th>\n",
       "      <th>Id</th>\n",
       "      <th>Age</th>\n",
       "      <th>Gender</th>\n",
       "      <th>Hormonal Changes</th>\n",
       "      <th>Family History</th>\n",
       "      <th>Race/Ethnicity</th>\n",
       "      <th>Body Weight</th>\n",
       "      <th>Calcium Intake</th>\n",
       "      <th>Vitamin D Intake</th>\n",
       "      <th>Physical Activity</th>\n",
       "      <th>Smoking</th>\n",
       "      <th>Alcohol Consumption</th>\n",
       "      <th>Medical Conditions</th>\n",
       "      <th>Medications</th>\n",
       "      <th>Prior Fractures</th>\n",
       "      <th>Osteoporosis</th>\n",
       "    </tr>\n",
       "  </thead>\n",
       "  <tbody>\n",
       "    <tr>\n",
       "      <th>0</th>\n",
       "      <td>1734616</td>\n",
       "      <td>69</td>\n",
       "      <td>Female</td>\n",
       "      <td>Normal</td>\n",
       "      <td>Yes</td>\n",
       "      <td>Asian</td>\n",
       "      <td>Underweight</td>\n",
       "      <td>Low</td>\n",
       "      <td>Sufficient</td>\n",
       "      <td>Sedentary</td>\n",
       "      <td>Yes</td>\n",
       "      <td>Moderate</td>\n",
       "      <td>Rheumatoid Arthritis</td>\n",
       "      <td>Corticosteroids</td>\n",
       "      <td>Yes</td>\n",
       "      <td>1</td>\n",
       "    </tr>\n",
       "    <tr>\n",
       "      <th>1</th>\n",
       "      <td>1419098</td>\n",
       "      <td>32</td>\n",
       "      <td>Female</td>\n",
       "      <td>Normal</td>\n",
       "      <td>Yes</td>\n",
       "      <td>Asian</td>\n",
       "      <td>Underweight</td>\n",
       "      <td>Low</td>\n",
       "      <td>Sufficient</td>\n",
       "      <td>Sedentary</td>\n",
       "      <td>No</td>\n",
       "      <td>NaN</td>\n",
       "      <td>NaN</td>\n",
       "      <td>NaN</td>\n",
       "      <td>Yes</td>\n",
       "      <td>1</td>\n",
       "    </tr>\n",
       "    <tr>\n",
       "      <th>2</th>\n",
       "      <td>1797916</td>\n",
       "      <td>89</td>\n",
       "      <td>Female</td>\n",
       "      <td>Postmenopausal</td>\n",
       "      <td>No</td>\n",
       "      <td>Caucasian</td>\n",
       "      <td>Normal</td>\n",
       "      <td>Adequate</td>\n",
       "      <td>Sufficient</td>\n",
       "      <td>Active</td>\n",
       "      <td>No</td>\n",
       "      <td>Moderate</td>\n",
       "      <td>Hyperthyroidism</td>\n",
       "      <td>Corticosteroids</td>\n",
       "      <td>No</td>\n",
       "      <td>1</td>\n",
       "    </tr>\n",
       "    <tr>\n",
       "      <th>3</th>\n",
       "      <td>1805337</td>\n",
       "      <td>78</td>\n",
       "      <td>Female</td>\n",
       "      <td>Normal</td>\n",
       "      <td>No</td>\n",
       "      <td>Caucasian</td>\n",
       "      <td>Underweight</td>\n",
       "      <td>Adequate</td>\n",
       "      <td>Insufficient</td>\n",
       "      <td>Sedentary</td>\n",
       "      <td>Yes</td>\n",
       "      <td>NaN</td>\n",
       "      <td>Rheumatoid Arthritis</td>\n",
       "      <td>Corticosteroids</td>\n",
       "      <td>No</td>\n",
       "      <td>1</td>\n",
       "    </tr>\n",
       "    <tr>\n",
       "      <th>4</th>\n",
       "      <td>1351334</td>\n",
       "      <td>38</td>\n",
       "      <td>Male</td>\n",
       "      <td>Postmenopausal</td>\n",
       "      <td>Yes</td>\n",
       "      <td>African American</td>\n",
       "      <td>Normal</td>\n",
       "      <td>Low</td>\n",
       "      <td>Sufficient</td>\n",
       "      <td>Active</td>\n",
       "      <td>Yes</td>\n",
       "      <td>NaN</td>\n",
       "      <td>Rheumatoid Arthritis</td>\n",
       "      <td>NaN</td>\n",
       "      <td>Yes</td>\n",
       "      <td>1</td>\n",
       "    </tr>\n",
       "  </tbody>\n",
       "</table>\n",
       "</div>"
      ],
      "text/plain": [
       "        Id  Age  Gender Hormonal Changes Family History    Race/Ethnicity  \\\n",
       "0  1734616   69  Female           Normal            Yes             Asian   \n",
       "1  1419098   32  Female           Normal            Yes             Asian   \n",
       "2  1797916   89  Female   Postmenopausal             No         Caucasian   \n",
       "3  1805337   78  Female           Normal             No         Caucasian   \n",
       "4  1351334   38    Male   Postmenopausal            Yes  African American   \n",
       "\n",
       "   Body Weight Calcium Intake Vitamin D Intake Physical Activity Smoking  \\\n",
       "0  Underweight            Low       Sufficient         Sedentary     Yes   \n",
       "1  Underweight            Low       Sufficient         Sedentary      No   \n",
       "2       Normal       Adequate       Sufficient            Active      No   \n",
       "3  Underweight       Adequate     Insufficient         Sedentary     Yes   \n",
       "4       Normal            Low       Sufficient            Active     Yes   \n",
       "\n",
       "  Alcohol Consumption    Medical Conditions      Medications Prior Fractures  \\\n",
       "0            Moderate  Rheumatoid Arthritis  Corticosteroids             Yes   \n",
       "1                 NaN                   NaN              NaN             Yes   \n",
       "2            Moderate       Hyperthyroidism  Corticosteroids              No   \n",
       "3                 NaN  Rheumatoid Arthritis  Corticosteroids              No   \n",
       "4                 NaN  Rheumatoid Arthritis              NaN             Yes   \n",
       "\n",
       "   Osteoporosis  \n",
       "0             1  \n",
       "1             1  \n",
       "2             1  \n",
       "3             1  \n",
       "4             1  "
      ]
     },
     "execution_count": 3,
     "metadata": {},
     "output_type": "execute_result"
    }
   ],
   "source": [
    "df.head()"
   ]
  },
  {
   "cell_type": "code",
   "execution_count": 4,
   "id": "0f21d71b",
   "metadata": {
    "execution": {
     "iopub.execute_input": "2024-10-15T22:51:51.600429Z",
     "iopub.status.busy": "2024-10-15T22:51:51.599412Z",
     "iopub.status.idle": "2024-10-15T22:51:51.621934Z",
     "shell.execute_reply": "2024-10-15T22:51:51.620786Z"
    },
    "papermill": {
     "duration": 0.03554,
     "end_time": "2024-10-15T22:51:51.624374",
     "exception": false,
     "start_time": "2024-10-15T22:51:51.588834",
     "status": "completed"
    },
    "tags": []
   },
   "outputs": [
    {
     "data": {
      "text/html": [
       "<div>\n",
       "<style scoped>\n",
       "    .dataframe tbody tr th:only-of-type {\n",
       "        vertical-align: middle;\n",
       "    }\n",
       "\n",
       "    .dataframe tbody tr th {\n",
       "        vertical-align: top;\n",
       "    }\n",
       "\n",
       "    .dataframe thead th {\n",
       "        text-align: right;\n",
       "    }\n",
       "</style>\n",
       "<table border=\"1\" class=\"dataframe\">\n",
       "  <thead>\n",
       "    <tr style=\"text-align: right;\">\n",
       "      <th></th>\n",
       "      <th>Age</th>\n",
       "      <th>Gender</th>\n",
       "      <th>Hormonal Changes</th>\n",
       "      <th>Family History</th>\n",
       "      <th>Race/Ethnicity</th>\n",
       "      <th>Body Weight</th>\n",
       "      <th>Calcium Intake</th>\n",
       "      <th>Vitamin D Intake</th>\n",
       "      <th>Physical Activity</th>\n",
       "      <th>Smoking</th>\n",
       "      <th>Alcohol Consumption</th>\n",
       "      <th>Medical Conditions</th>\n",
       "      <th>Medications</th>\n",
       "    </tr>\n",
       "  </thead>\n",
       "  <tbody>\n",
       "    <tr>\n",
       "      <th>0</th>\n",
       "      <td>69</td>\n",
       "      <td>Female</td>\n",
       "      <td>Normal</td>\n",
       "      <td>Yes</td>\n",
       "      <td>Asian</td>\n",
       "      <td>Underweight</td>\n",
       "      <td>Low</td>\n",
       "      <td>Sufficient</td>\n",
       "      <td>Sedentary</td>\n",
       "      <td>Yes</td>\n",
       "      <td>Moderate</td>\n",
       "      <td>Rheumatoid Arthritis</td>\n",
       "      <td>Corticosteroids</td>\n",
       "    </tr>\n",
       "    <tr>\n",
       "      <th>1</th>\n",
       "      <td>32</td>\n",
       "      <td>Female</td>\n",
       "      <td>Normal</td>\n",
       "      <td>Yes</td>\n",
       "      <td>Asian</td>\n",
       "      <td>Underweight</td>\n",
       "      <td>Low</td>\n",
       "      <td>Sufficient</td>\n",
       "      <td>Sedentary</td>\n",
       "      <td>No</td>\n",
       "      <td>NaN</td>\n",
       "      <td>NaN</td>\n",
       "      <td>NaN</td>\n",
       "    </tr>\n",
       "    <tr>\n",
       "      <th>2</th>\n",
       "      <td>89</td>\n",
       "      <td>Female</td>\n",
       "      <td>Postmenopausal</td>\n",
       "      <td>No</td>\n",
       "      <td>Caucasian</td>\n",
       "      <td>Normal</td>\n",
       "      <td>Adequate</td>\n",
       "      <td>Sufficient</td>\n",
       "      <td>Active</td>\n",
       "      <td>No</td>\n",
       "      <td>Moderate</td>\n",
       "      <td>Hyperthyroidism</td>\n",
       "      <td>Corticosteroids</td>\n",
       "    </tr>\n",
       "    <tr>\n",
       "      <th>3</th>\n",
       "      <td>78</td>\n",
       "      <td>Female</td>\n",
       "      <td>Normal</td>\n",
       "      <td>No</td>\n",
       "      <td>Caucasian</td>\n",
       "      <td>Underweight</td>\n",
       "      <td>Adequate</td>\n",
       "      <td>Insufficient</td>\n",
       "      <td>Sedentary</td>\n",
       "      <td>Yes</td>\n",
       "      <td>NaN</td>\n",
       "      <td>Rheumatoid Arthritis</td>\n",
       "      <td>Corticosteroids</td>\n",
       "    </tr>\n",
       "    <tr>\n",
       "      <th>4</th>\n",
       "      <td>38</td>\n",
       "      <td>Male</td>\n",
       "      <td>Postmenopausal</td>\n",
       "      <td>Yes</td>\n",
       "      <td>African American</td>\n",
       "      <td>Normal</td>\n",
       "      <td>Low</td>\n",
       "      <td>Sufficient</td>\n",
       "      <td>Active</td>\n",
       "      <td>Yes</td>\n",
       "      <td>NaN</td>\n",
       "      <td>Rheumatoid Arthritis</td>\n",
       "      <td>NaN</td>\n",
       "    </tr>\n",
       "  </tbody>\n",
       "</table>\n",
       "</div>"
      ],
      "text/plain": [
       "   Age  Gender Hormonal Changes Family History    Race/Ethnicity  Body Weight  \\\n",
       "0   69  Female           Normal            Yes             Asian  Underweight   \n",
       "1   32  Female           Normal            Yes             Asian  Underweight   \n",
       "2   89  Female   Postmenopausal             No         Caucasian       Normal   \n",
       "3   78  Female           Normal             No         Caucasian  Underweight   \n",
       "4   38    Male   Postmenopausal            Yes  African American       Normal   \n",
       "\n",
       "  Calcium Intake Vitamin D Intake Physical Activity Smoking  \\\n",
       "0            Low       Sufficient         Sedentary     Yes   \n",
       "1            Low       Sufficient         Sedentary      No   \n",
       "2       Adequate       Sufficient            Active      No   \n",
       "3       Adequate     Insufficient         Sedentary     Yes   \n",
       "4            Low       Sufficient            Active     Yes   \n",
       "\n",
       "  Alcohol Consumption    Medical Conditions      Medications  \n",
       "0            Moderate  Rheumatoid Arthritis  Corticosteroids  \n",
       "1                 NaN                   NaN              NaN  \n",
       "2            Moderate       Hyperthyroidism  Corticosteroids  \n",
       "3                 NaN  Rheumatoid Arthritis  Corticosteroids  \n",
       "4                 NaN  Rheumatoid Arthritis              NaN  "
      ]
     },
     "execution_count": 4,
     "metadata": {},
     "output_type": "execute_result"
    }
   ],
   "source": [
    "inputs_df = df.iloc[:,1:14]\n",
    "inputs_df.head()"
   ]
  },
  {
   "cell_type": "markdown",
   "id": "e8d5bc67",
   "metadata": {
    "papermill": {
     "duration": 0.008674,
     "end_time": "2024-10-15T22:51:51.641739",
     "exception": false,
     "start_time": "2024-10-15T22:51:51.633065",
     "status": "completed"
    },
    "tags": []
   },
   "source": [
    "## Categorical Values into Numerical"
   ]
  },
  {
   "cell_type": "code",
   "execution_count": 5,
   "id": "45cd57d1",
   "metadata": {
    "execution": {
     "iopub.execute_input": "2024-10-15T22:51:51.660876Z",
     "iopub.status.busy": "2024-10-15T22:51:51.660454Z",
     "iopub.status.idle": "2024-10-15T22:51:51.682756Z",
     "shell.execute_reply": "2024-10-15T22:51:51.681808Z"
    },
    "papermill": {
     "duration": 0.034776,
     "end_time": "2024-10-15T22:51:51.685219",
     "exception": false,
     "start_time": "2024-10-15T22:51:51.650443",
     "status": "completed"
    },
    "tags": []
   },
   "outputs": [],
   "source": [
    "inputs_df = pd.get_dummies(inputs_df,columns=['Hormonal Changes', 'Race/Ethnicity', 'Body Weight', 'Calcium Intake', 'Vitamin D Intake',\n",
    "                                  'Physical Activity', 'Alcohol Consumption', 'Medical Conditions', 'Medications'], drop_first=True)"
   ]
  },
  {
   "cell_type": "code",
   "execution_count": 6,
   "id": "3f2edbe8",
   "metadata": {
    "execution": {
     "iopub.execute_input": "2024-10-15T22:51:51.705094Z",
     "iopub.status.busy": "2024-10-15T22:51:51.704175Z",
     "iopub.status.idle": "2024-10-15T22:51:53.087197Z",
     "shell.execute_reply": "2024-10-15T22:51:53.086003Z"
    },
    "papermill": {
     "duration": 1.396013,
     "end_time": "2024-10-15T22:51:53.090129",
     "exception": false,
     "start_time": "2024-10-15T22:51:51.694116",
     "status": "completed"
    },
    "tags": []
   },
   "outputs": [],
   "source": [
    "from sklearn.preprocessing import LabelEncoder\n",
    "le = LabelEncoder()\n",
    "# Use LabelEncoder for binary categorical columns\n",
    "inputs_df['Gender'] = le.fit_transform(df['Gender'])\n",
    "inputs_df['Family History'] = le.fit_transform(df['Family History'])\n",
    "inputs_df['Smoking'] = le.fit_transform(df['Smoking'])"
   ]
  },
  {
   "cell_type": "code",
   "execution_count": 7,
   "id": "7ce7219a",
   "metadata": {
    "execution": {
     "iopub.execute_input": "2024-10-15T22:51:53.111798Z",
     "iopub.status.busy": "2024-10-15T22:51:53.111222Z",
     "iopub.status.idle": "2024-10-15T22:51:53.128468Z",
     "shell.execute_reply": "2024-10-15T22:51:53.127179Z"
    },
    "papermill": {
     "duration": 0.031145,
     "end_time": "2024-10-15T22:51:53.130828",
     "exception": false,
     "start_time": "2024-10-15T22:51:53.099683",
     "status": "completed"
    },
    "tags": []
   },
   "outputs": [
    {
     "data": {
      "text/html": [
       "<div>\n",
       "<style scoped>\n",
       "    .dataframe tbody tr th:only-of-type {\n",
       "        vertical-align: middle;\n",
       "    }\n",
       "\n",
       "    .dataframe tbody tr th {\n",
       "        vertical-align: top;\n",
       "    }\n",
       "\n",
       "    .dataframe thead th {\n",
       "        text-align: right;\n",
       "    }\n",
       "</style>\n",
       "<table border=\"1\" class=\"dataframe\">\n",
       "  <thead>\n",
       "    <tr style=\"text-align: right;\">\n",
       "      <th></th>\n",
       "      <th>Age</th>\n",
       "      <th>Gender</th>\n",
       "      <th>Family History</th>\n",
       "      <th>Smoking</th>\n",
       "      <th>Hormonal Changes_Postmenopausal</th>\n",
       "      <th>Race/Ethnicity_Asian</th>\n",
       "      <th>Race/Ethnicity_Caucasian</th>\n",
       "      <th>Body Weight_Underweight</th>\n",
       "      <th>Calcium Intake_Low</th>\n",
       "      <th>Vitamin D Intake_Sufficient</th>\n",
       "      <th>Physical Activity_Sedentary</th>\n",
       "      <th>Medical Conditions_Rheumatoid Arthritis</th>\n",
       "    </tr>\n",
       "  </thead>\n",
       "  <tbody>\n",
       "    <tr>\n",
       "      <th>0</th>\n",
       "      <td>69</td>\n",
       "      <td>0</td>\n",
       "      <td>1</td>\n",
       "      <td>1</td>\n",
       "      <td>False</td>\n",
       "      <td>True</td>\n",
       "      <td>False</td>\n",
       "      <td>True</td>\n",
       "      <td>True</td>\n",
       "      <td>True</td>\n",
       "      <td>True</td>\n",
       "      <td>True</td>\n",
       "    </tr>\n",
       "    <tr>\n",
       "      <th>1</th>\n",
       "      <td>32</td>\n",
       "      <td>0</td>\n",
       "      <td>1</td>\n",
       "      <td>0</td>\n",
       "      <td>False</td>\n",
       "      <td>True</td>\n",
       "      <td>False</td>\n",
       "      <td>True</td>\n",
       "      <td>True</td>\n",
       "      <td>True</td>\n",
       "      <td>True</td>\n",
       "      <td>False</td>\n",
       "    </tr>\n",
       "    <tr>\n",
       "      <th>2</th>\n",
       "      <td>89</td>\n",
       "      <td>0</td>\n",
       "      <td>0</td>\n",
       "      <td>0</td>\n",
       "      <td>True</td>\n",
       "      <td>False</td>\n",
       "      <td>True</td>\n",
       "      <td>False</td>\n",
       "      <td>False</td>\n",
       "      <td>True</td>\n",
       "      <td>False</td>\n",
       "      <td>False</td>\n",
       "    </tr>\n",
       "    <tr>\n",
       "      <th>3</th>\n",
       "      <td>78</td>\n",
       "      <td>0</td>\n",
       "      <td>0</td>\n",
       "      <td>1</td>\n",
       "      <td>False</td>\n",
       "      <td>False</td>\n",
       "      <td>True</td>\n",
       "      <td>True</td>\n",
       "      <td>False</td>\n",
       "      <td>False</td>\n",
       "      <td>True</td>\n",
       "      <td>True</td>\n",
       "    </tr>\n",
       "    <tr>\n",
       "      <th>4</th>\n",
       "      <td>38</td>\n",
       "      <td>1</td>\n",
       "      <td>1</td>\n",
       "      <td>1</td>\n",
       "      <td>True</td>\n",
       "      <td>False</td>\n",
       "      <td>False</td>\n",
       "      <td>False</td>\n",
       "      <td>True</td>\n",
       "      <td>True</td>\n",
       "      <td>False</td>\n",
       "      <td>True</td>\n",
       "    </tr>\n",
       "  </tbody>\n",
       "</table>\n",
       "</div>"
      ],
      "text/plain": [
       "   Age  Gender  Family History  Smoking  Hormonal Changes_Postmenopausal  \\\n",
       "0   69       0               1        1                            False   \n",
       "1   32       0               1        0                            False   \n",
       "2   89       0               0        0                             True   \n",
       "3   78       0               0        1                            False   \n",
       "4   38       1               1        1                             True   \n",
       "\n",
       "   Race/Ethnicity_Asian  Race/Ethnicity_Caucasian  Body Weight_Underweight  \\\n",
       "0                  True                     False                     True   \n",
       "1                  True                     False                     True   \n",
       "2                 False                      True                    False   \n",
       "3                 False                      True                     True   \n",
       "4                 False                     False                    False   \n",
       "\n",
       "   Calcium Intake_Low  Vitamin D Intake_Sufficient  \\\n",
       "0                True                         True   \n",
       "1                True                         True   \n",
       "2               False                         True   \n",
       "3               False                        False   \n",
       "4                True                         True   \n",
       "\n",
       "   Physical Activity_Sedentary  Medical Conditions_Rheumatoid Arthritis  \n",
       "0                         True                                     True  \n",
       "1                         True                                    False  \n",
       "2                        False                                    False  \n",
       "3                         True                                     True  \n",
       "4                        False                                     True  "
      ]
     },
     "execution_count": 7,
     "metadata": {},
     "output_type": "execute_result"
    }
   ],
   "source": [
    "inputs_df.head()"
   ]
  },
  {
   "cell_type": "code",
   "execution_count": 8,
   "id": "c2ceed98",
   "metadata": {
    "execution": {
     "iopub.execute_input": "2024-10-15T22:51:53.152580Z",
     "iopub.status.busy": "2024-10-15T22:51:53.151463Z",
     "iopub.status.idle": "2024-10-15T22:51:53.161212Z",
     "shell.execute_reply": "2024-10-15T22:51:53.160044Z"
    },
    "papermill": {
     "duration": 0.022793,
     "end_time": "2024-10-15T22:51:53.163473",
     "exception": false,
     "start_time": "2024-10-15T22:51:53.140680",
     "status": "completed"
    },
    "tags": []
   },
   "outputs": [
    {
     "data": {
      "text/plain": [
       "Age                                        int64\n",
       "Gender                                     int64\n",
       "Family History                             int64\n",
       "Smoking                                    int64\n",
       "Hormonal Changes_Postmenopausal             bool\n",
       "Race/Ethnicity_Asian                        bool\n",
       "Race/Ethnicity_Caucasian                    bool\n",
       "Body Weight_Underweight                     bool\n",
       "Calcium Intake_Low                          bool\n",
       "Vitamin D Intake_Sufficient                 bool\n",
       "Physical Activity_Sedentary                 bool\n",
       "Medical Conditions_Rheumatoid Arthritis     bool\n",
       "dtype: object"
      ]
     },
     "execution_count": 8,
     "metadata": {},
     "output_type": "execute_result"
    }
   ],
   "source": [
    "inputs_df.dtypes"
   ]
  },
  {
   "cell_type": "code",
   "execution_count": 9,
   "id": "ce4e3318",
   "metadata": {
    "execution": {
     "iopub.execute_input": "2024-10-15T22:51:53.185027Z",
     "iopub.status.busy": "2024-10-15T22:51:53.184549Z",
     "iopub.status.idle": "2024-10-15T22:51:53.193300Z",
     "shell.execute_reply": "2024-10-15T22:51:53.192099Z"
    },
    "papermill": {
     "duration": 0.022747,
     "end_time": "2024-10-15T22:51:53.196170",
     "exception": false,
     "start_time": "2024-10-15T22:51:53.173423",
     "status": "completed"
    },
    "tags": []
   },
   "outputs": [
    {
     "name": "stdout",
     "output_type": "stream",
     "text": [
      "Age                                        int64\n",
      "Gender                                     int64\n",
      "Family History                             int64\n",
      "Smoking                                    int64\n",
      "Hormonal Changes_Postmenopausal            int64\n",
      "Race/Ethnicity_Asian                       int64\n",
      "Race/Ethnicity_Caucasian                   int64\n",
      "Body Weight_Underweight                    int64\n",
      "Calcium Intake_Low                         int64\n",
      "Vitamin D Intake_Sufficient                int64\n",
      "Physical Activity_Sedentary                int64\n",
      "Medical Conditions_Rheumatoid Arthritis    int64\n",
      "dtype: object\n"
     ]
    }
   ],
   "source": [
    "# Convert all boolean columns to integers\n",
    "inputs_df = inputs_df.astype(int)\n",
    "\n",
    "# Check the data types after conversion\n",
    "print(inputs_df.dtypes)\n"
   ]
  },
  {
   "cell_type": "code",
   "execution_count": 10,
   "id": "9308eef3",
   "metadata": {
    "execution": {
     "iopub.execute_input": "2024-10-15T22:51:53.216440Z",
     "iopub.status.busy": "2024-10-15T22:51:53.215997Z",
     "iopub.status.idle": "2024-10-15T22:51:53.230646Z",
     "shell.execute_reply": "2024-10-15T22:51:53.229422Z"
    },
    "papermill": {
     "duration": 0.027612,
     "end_time": "2024-10-15T22:51:53.233090",
     "exception": false,
     "start_time": "2024-10-15T22:51:53.205478",
     "status": "completed"
    },
    "tags": []
   },
   "outputs": [
    {
     "data": {
      "text/html": [
       "<div>\n",
       "<style scoped>\n",
       "    .dataframe tbody tr th:only-of-type {\n",
       "        vertical-align: middle;\n",
       "    }\n",
       "\n",
       "    .dataframe tbody tr th {\n",
       "        vertical-align: top;\n",
       "    }\n",
       "\n",
       "    .dataframe thead th {\n",
       "        text-align: right;\n",
       "    }\n",
       "</style>\n",
       "<table border=\"1\" class=\"dataframe\">\n",
       "  <thead>\n",
       "    <tr style=\"text-align: right;\">\n",
       "      <th></th>\n",
       "      <th>Age</th>\n",
       "      <th>Gender</th>\n",
       "      <th>Family History</th>\n",
       "      <th>Smoking</th>\n",
       "      <th>Hormonal Changes_Postmenopausal</th>\n",
       "      <th>Race/Ethnicity_Asian</th>\n",
       "      <th>Race/Ethnicity_Caucasian</th>\n",
       "      <th>Body Weight_Underweight</th>\n",
       "      <th>Calcium Intake_Low</th>\n",
       "      <th>Vitamin D Intake_Sufficient</th>\n",
       "      <th>Physical Activity_Sedentary</th>\n",
       "      <th>Medical Conditions_Rheumatoid Arthritis</th>\n",
       "    </tr>\n",
       "  </thead>\n",
       "  <tbody>\n",
       "    <tr>\n",
       "      <th>0</th>\n",
       "      <td>69</td>\n",
       "      <td>0</td>\n",
       "      <td>1</td>\n",
       "      <td>1</td>\n",
       "      <td>0</td>\n",
       "      <td>1</td>\n",
       "      <td>0</td>\n",
       "      <td>1</td>\n",
       "      <td>1</td>\n",
       "      <td>1</td>\n",
       "      <td>1</td>\n",
       "      <td>1</td>\n",
       "    </tr>\n",
       "    <tr>\n",
       "      <th>1</th>\n",
       "      <td>32</td>\n",
       "      <td>0</td>\n",
       "      <td>1</td>\n",
       "      <td>0</td>\n",
       "      <td>0</td>\n",
       "      <td>1</td>\n",
       "      <td>0</td>\n",
       "      <td>1</td>\n",
       "      <td>1</td>\n",
       "      <td>1</td>\n",
       "      <td>1</td>\n",
       "      <td>0</td>\n",
       "    </tr>\n",
       "    <tr>\n",
       "      <th>2</th>\n",
       "      <td>89</td>\n",
       "      <td>0</td>\n",
       "      <td>0</td>\n",
       "      <td>0</td>\n",
       "      <td>1</td>\n",
       "      <td>0</td>\n",
       "      <td>1</td>\n",
       "      <td>0</td>\n",
       "      <td>0</td>\n",
       "      <td>1</td>\n",
       "      <td>0</td>\n",
       "      <td>0</td>\n",
       "    </tr>\n",
       "    <tr>\n",
       "      <th>3</th>\n",
       "      <td>78</td>\n",
       "      <td>0</td>\n",
       "      <td>0</td>\n",
       "      <td>1</td>\n",
       "      <td>0</td>\n",
       "      <td>0</td>\n",
       "      <td>1</td>\n",
       "      <td>1</td>\n",
       "      <td>0</td>\n",
       "      <td>0</td>\n",
       "      <td>1</td>\n",
       "      <td>1</td>\n",
       "    </tr>\n",
       "    <tr>\n",
       "      <th>4</th>\n",
       "      <td>38</td>\n",
       "      <td>1</td>\n",
       "      <td>1</td>\n",
       "      <td>1</td>\n",
       "      <td>1</td>\n",
       "      <td>0</td>\n",
       "      <td>0</td>\n",
       "      <td>0</td>\n",
       "      <td>1</td>\n",
       "      <td>1</td>\n",
       "      <td>0</td>\n",
       "      <td>1</td>\n",
       "    </tr>\n",
       "  </tbody>\n",
       "</table>\n",
       "</div>"
      ],
      "text/plain": [
       "   Age  Gender  Family History  Smoking  Hormonal Changes_Postmenopausal  \\\n",
       "0   69       0               1        1                                0   \n",
       "1   32       0               1        0                                0   \n",
       "2   89       0               0        0                                1   \n",
       "3   78       0               0        1                                0   \n",
       "4   38       1               1        1                                1   \n",
       "\n",
       "   Race/Ethnicity_Asian  Race/Ethnicity_Caucasian  Body Weight_Underweight  \\\n",
       "0                     1                         0                        1   \n",
       "1                     1                         0                        1   \n",
       "2                     0                         1                        0   \n",
       "3                     0                         1                        1   \n",
       "4                     0                         0                        0   \n",
       "\n",
       "   Calcium Intake_Low  Vitamin D Intake_Sufficient  \\\n",
       "0                   1                            1   \n",
       "1                   1                            1   \n",
       "2                   0                            1   \n",
       "3                   0                            0   \n",
       "4                   1                            1   \n",
       "\n",
       "   Physical Activity_Sedentary  Medical Conditions_Rheumatoid Arthritis  \n",
       "0                            1                                        1  \n",
       "1                            1                                        0  \n",
       "2                            0                                        0  \n",
       "3                            1                                        1  \n",
       "4                            0                                        1  "
      ]
     },
     "execution_count": 10,
     "metadata": {},
     "output_type": "execute_result"
    }
   ],
   "source": [
    "inputs_df.head()"
   ]
  },
  {
   "cell_type": "code",
   "execution_count": 11,
   "id": "edc53d05",
   "metadata": {
    "execution": {
     "iopub.execute_input": "2024-10-15T22:51:53.255139Z",
     "iopub.status.busy": "2024-10-15T22:51:53.254717Z",
     "iopub.status.idle": "2024-10-15T22:51:53.263533Z",
     "shell.execute_reply": "2024-10-15T22:51:53.262151Z"
    },
    "papermill": {
     "duration": 0.023139,
     "end_time": "2024-10-15T22:51:53.265921",
     "exception": false,
     "start_time": "2024-10-15T22:51:53.242782",
     "status": "completed"
    },
    "tags": []
   },
   "outputs": [
    {
     "data": {
      "text/plain": [
       "1958"
      ]
     },
     "execution_count": 11,
     "metadata": {},
     "output_type": "execute_result"
    }
   ],
   "source": [
    "input_arr = inputs_df.to_numpy()\n",
    "len(input_arr)"
   ]
  },
  {
   "cell_type": "code",
   "execution_count": 12,
   "id": "2e64b393",
   "metadata": {
    "execution": {
     "iopub.execute_input": "2024-10-15T22:51:53.286746Z",
     "iopub.status.busy": "2024-10-15T22:51:53.286288Z",
     "iopub.status.idle": "2024-10-15T22:51:53.294767Z",
     "shell.execute_reply": "2024-10-15T22:51:53.293511Z"
    },
    "papermill": {
     "duration": 0.021626,
     "end_time": "2024-10-15T22:51:53.297178",
     "exception": false,
     "start_time": "2024-10-15T22:51:53.275552",
     "status": "completed"
    },
    "tags": []
   },
   "outputs": [
    {
     "data": {
      "text/plain": [
       "0    1\n",
       "1    1\n",
       "2    1\n",
       "3    1\n",
       "4    1\n",
       "Name: Osteoporosis, dtype: int64"
      ]
     },
     "execution_count": 12,
     "metadata": {},
     "output_type": "execute_result"
    }
   ],
   "source": [
    "target_df = df.iloc[:,15]\n",
    "target_df.head()"
   ]
  },
  {
   "cell_type": "code",
   "execution_count": 13,
   "id": "386139cf",
   "metadata": {
    "execution": {
     "iopub.execute_input": "2024-10-15T22:51:53.318277Z",
     "iopub.status.busy": "2024-10-15T22:51:53.317851Z",
     "iopub.status.idle": "2024-10-15T22:51:53.325778Z",
     "shell.execute_reply": "2024-10-15T22:51:53.324413Z"
    },
    "papermill": {
     "duration": 0.021281,
     "end_time": "2024-10-15T22:51:53.328217",
     "exception": false,
     "start_time": "2024-10-15T22:51:53.306936",
     "status": "completed"
    },
    "tags": []
   },
   "outputs": [
    {
     "data": {
      "text/plain": [
       "1958"
      ]
     },
     "execution_count": 13,
     "metadata": {},
     "output_type": "execute_result"
    }
   ],
   "source": [
    "target_arr = target_df.to_numpy()\n",
    "len(target_arr)"
   ]
  },
  {
   "cell_type": "markdown",
   "id": "5df041a4",
   "metadata": {
    "papermill": {
     "duration": 0.009582,
     "end_time": "2024-10-15T22:51:53.347942",
     "exception": false,
     "start_time": "2024-10-15T22:51:53.338360",
     "status": "completed"
    },
    "tags": []
   },
   "source": [
    "Preprocess Features and convert to tensors"
   ]
  },
  {
   "cell_type": "code",
   "execution_count": 14,
   "id": "da2f8955",
   "metadata": {
    "execution": {
     "iopub.execute_input": "2024-10-15T22:51:53.369710Z",
     "iopub.status.busy": "2024-10-15T22:51:53.369010Z",
     "iopub.status.idle": "2024-10-15T22:51:53.379393Z",
     "shell.execute_reply": "2024-10-15T22:51:53.378168Z"
    },
    "papermill": {
     "duration": 0.024476,
     "end_time": "2024-10-15T22:51:53.382137",
     "exception": false,
     "start_time": "2024-10-15T22:51:53.357661",
     "status": "completed"
    },
    "tags": []
   },
   "outputs": [],
   "source": [
    "from sklearn.preprocessing import StandardScaler\n",
    "scale = StandardScaler()\n",
    "input_arr = scale.fit_transform(input_arr)"
   ]
  },
  {
   "cell_type": "code",
   "execution_count": 15,
   "id": "0870b9b1",
   "metadata": {
    "execution": {
     "iopub.execute_input": "2024-10-15T22:51:53.404229Z",
     "iopub.status.busy": "2024-10-15T22:51:53.403807Z",
     "iopub.status.idle": "2024-10-15T22:51:53.412333Z",
     "shell.execute_reply": "2024-10-15T22:51:53.411116Z"
    },
    "papermill": {
     "duration": 0.022741,
     "end_time": "2024-10-15T22:51:53.414678",
     "exception": false,
     "start_time": "2024-10-15T22:51:53.391937",
     "status": "completed"
    },
    "tags": []
   },
   "outputs": [
    {
     "data": {
      "text/plain": [
       "array([[ 1.4004177 , -1.0133682 ,  1.01959959, ...,  0.96783074,\n",
       "         1.04386197,  1.44679195],\n",
       "       [-0.33260578, -1.0133682 ,  1.01959959, ...,  0.96783074,\n",
       "         1.04386197, -0.69118438],\n",
       "       [ 2.33718715, -1.0133682 , -0.98077717, ...,  0.96783074,\n",
       "        -0.95798106, -0.69118438],\n",
       "       ...,\n",
       "       [-0.23892884, -1.0133682 , -0.98077717, ...,  0.96783074,\n",
       "         1.04386197, -0.69118438],\n",
       "       [-0.66047509,  0.98680815, -0.98077717, ..., -1.03323852,\n",
       "         1.04386197,  1.44679195],\n",
       "       [-0.61363662, -1.0133682 , -0.98077717, ...,  0.96783074,\n",
       "         1.04386197,  1.44679195]])"
      ]
     },
     "execution_count": 15,
     "metadata": {},
     "output_type": "execute_result"
    }
   ],
   "source": [
    "input_arr"
   ]
  },
  {
   "cell_type": "code",
   "execution_count": 16,
   "id": "c08f7a80",
   "metadata": {
    "execution": {
     "iopub.execute_input": "2024-10-15T22:51:53.436535Z",
     "iopub.status.busy": "2024-10-15T22:51:53.435718Z",
     "iopub.status.idle": "2024-10-15T22:51:53.441459Z",
     "shell.execute_reply": "2024-10-15T22:51:53.440261Z"
    },
    "papermill": {
     "duration": 0.019259,
     "end_time": "2024-10-15T22:51:53.443885",
     "exception": false,
     "start_time": "2024-10-15T22:51:53.424626",
     "status": "completed"
    },
    "tags": []
   },
   "outputs": [],
   "source": [
    "import random\n",
    "total_size = len(input_arr)\n",
    "train_size = int(0.8 * total_size)\n",
    "valid_size = int(0.1*total_size)\n",
    "test_size = total_size-train_size-valid_size"
   ]
  },
  {
   "cell_type": "code",
   "execution_count": 17,
   "id": "751396ce",
   "metadata": {
    "execution": {
     "iopub.execute_input": "2024-10-15T22:51:53.465761Z",
     "iopub.status.busy": "2024-10-15T22:51:53.464837Z",
     "iopub.status.idle": "2024-10-15T22:51:56.662106Z",
     "shell.execute_reply": "2024-10-15T22:51:56.660827Z"
    },
    "papermill": {
     "duration": 3.211249,
     "end_time": "2024-10-15T22:51:56.664940",
     "exception": false,
     "start_time": "2024-10-15T22:51:53.453691",
     "status": "completed"
    },
    "tags": []
   },
   "outputs": [],
   "source": [
    "import torch\n",
    "from torch.utils.data import TensorDataset, DataLoader, random_split\n",
    "dataset = TensorDataset(torch.tensor(input_arr).float(), torch.tensor(target_arr).float())\n",
    "train_set, valid_set, test_set= random_split(dataset, [train_size,valid_size,test_size])"
   ]
  },
  {
   "cell_type": "code",
   "execution_count": 18,
   "id": "d25e773c",
   "metadata": {
    "execution": {
     "iopub.execute_input": "2024-10-15T22:51:56.687218Z",
     "iopub.status.busy": "2024-10-15T22:51:56.686154Z",
     "iopub.status.idle": "2024-10-15T22:51:56.692987Z",
     "shell.execute_reply": "2024-10-15T22:51:56.691848Z"
    },
    "papermill": {
     "duration": 0.020628,
     "end_time": "2024-10-15T22:51:56.695429",
     "exception": false,
     "start_time": "2024-10-15T22:51:56.674801",
     "status": "completed"
    },
    "tags": []
   },
   "outputs": [],
   "source": [
    "train_loader = DataLoader(train_set,batch_size =8, shuffle = True)\n",
    "valid_loader = DataLoader(valid_set,batch_size =4, shuffle = True)\n",
    "test_loader = DataLoader(test_set,batch_size =4, shuffle = True)"
   ]
  },
  {
   "cell_type": "markdown",
   "id": "947dcecb",
   "metadata": {
    "papermill": {
     "duration": 0.010259,
     "end_time": "2024-10-15T22:51:56.716230",
     "exception": false,
     "start_time": "2024-10-15T22:51:56.705971",
     "status": "completed"
    },
    "tags": []
   },
   "source": [
    "Define a Deep NN for Binary Classification"
   ]
  },
  {
   "cell_type": "code",
   "execution_count": 19,
   "id": "5b128b17",
   "metadata": {
    "execution": {
     "iopub.execute_input": "2024-10-15T22:51:56.740276Z",
     "iopub.status.busy": "2024-10-15T22:51:56.739573Z",
     "iopub.status.idle": "2024-10-15T22:51:56.747059Z",
     "shell.execute_reply": "2024-10-15T22:51:56.745086Z"
    },
    "papermill": {
     "duration": 0.023734,
     "end_time": "2024-10-15T22:51:56.750039",
     "exception": false,
     "start_time": "2024-10-15T22:51:56.726305",
     "status": "completed"
    },
    "tags": []
   },
   "outputs": [],
   "source": [
    "n_features = input_arr.shape[1]"
   ]
  },
  {
   "cell_type": "code",
   "execution_count": 20,
   "id": "0fc20401",
   "metadata": {
    "execution": {
     "iopub.execute_input": "2024-10-15T22:51:56.777445Z",
     "iopub.status.busy": "2024-10-15T22:51:56.776879Z",
     "iopub.status.idle": "2024-10-15T22:51:56.796752Z",
     "shell.execute_reply": "2024-10-15T22:51:56.794982Z"
    },
    "papermill": {
     "duration": 0.035548,
     "end_time": "2024-10-15T22:51:56.799693",
     "exception": false,
     "start_time": "2024-10-15T22:51:56.764145",
     "status": "completed"
    },
    "tags": []
   },
   "outputs": [],
   "source": [
    "import torch.nn as nn\n",
    "\n",
    "model = nn.Sequential(\n",
    "        nn.Linear(n_features,50),\n",
    "        nn.LeakyReLU(),\n",
    "        nn.Linear(50,40),\n",
    "        nn.LeakyReLU(),\n",
    "        nn.Linear(40,30),\n",
    "        nn.LeakyReLU(),\n",
    "        nn.Linear(30,30),\n",
    "        nn.LeakyReLU(),\n",
    "        nn.Linear(30,20),\n",
    "        nn.LeakyReLU(),\n",
    "        nn.Linear(20,10),\n",
    "        nn.LeakyReLU(),\n",
    "        nn.Linear(10,1),\n",
    "        )\n"
   ]
  },
  {
   "cell_type": "code",
   "execution_count": null,
   "id": "d90c3247",
   "metadata": {
    "papermill": {
     "duration": 0.010049,
     "end_time": "2024-10-15T22:51:56.819583",
     "exception": false,
     "start_time": "2024-10-15T22:51:56.809534",
     "status": "completed"
    },
    "tags": []
   },
   "outputs": [],
   "source": []
  },
  {
   "cell_type": "markdown",
   "id": "e2363d41",
   "metadata": {
    "papermill": {
     "duration": 0.011275,
     "end_time": "2024-10-15T22:51:56.840482",
     "exception": false,
     "start_time": "2024-10-15T22:51:56.829207",
     "status": "completed"
    },
    "tags": []
   },
   "source": [
    "Optimizer define"
   ]
  },
  {
   "cell_type": "code",
   "execution_count": 21,
   "id": "0c273a47",
   "metadata": {
    "execution": {
     "iopub.execute_input": "2024-10-15T22:51:56.868582Z",
     "iopub.status.busy": "2024-10-15T22:51:56.868033Z",
     "iopub.status.idle": "2024-10-15T22:51:58.620922Z",
     "shell.execute_reply": "2024-10-15T22:51:58.619716Z"
    },
    "papermill": {
     "duration": 1.770543,
     "end_time": "2024-10-15T22:51:58.623702",
     "exception": false,
     "start_time": "2024-10-15T22:51:56.853159",
     "status": "completed"
    },
    "tags": []
   },
   "outputs": [],
   "source": [
    "import torch.optim as optim\n",
    "optimizer = optim.SGD(model.parameters(),lr =1e-3,momentum = 0.96)"
   ]
  },
  {
   "cell_type": "markdown",
   "id": "5a27bba9",
   "metadata": {
    "papermill": {
     "duration": 0.009979,
     "end_time": "2024-10-15T22:51:58.644425",
     "exception": false,
     "start_time": "2024-10-15T22:51:58.634446",
     "status": "completed"
    },
    "tags": []
   },
   "source": [
    "Loss Function define"
   ]
  },
  {
   "cell_type": "code",
   "execution_count": 22,
   "id": "62bf10f2",
   "metadata": {
    "execution": {
     "iopub.execute_input": "2024-10-15T22:51:58.667710Z",
     "iopub.status.busy": "2024-10-15T22:51:58.666393Z",
     "iopub.status.idle": "2024-10-15T22:51:58.672578Z",
     "shell.execute_reply": "2024-10-15T22:51:58.671371Z"
    },
    "papermill": {
     "duration": 0.020678,
     "end_time": "2024-10-15T22:51:58.675325",
     "exception": false,
     "start_time": "2024-10-15T22:51:58.654647",
     "status": "completed"
    },
    "tags": []
   },
   "outputs": [],
   "source": [
    "from torch.nn import CrossEntropyLoss as CEL\n",
    "criterion = CEL()"
   ]
  },
  {
   "cell_type": "markdown",
   "id": "0b86c9c7",
   "metadata": {
    "papermill": {
     "duration": 0.010092,
     "end_time": "2024-10-15T22:51:58.695546",
     "exception": false,
     "start_time": "2024-10-15T22:51:58.685454",
     "status": "completed"
    },
    "tags": []
   },
   "source": [
    "Training Function with epochs"
   ]
  },
  {
   "cell_type": "code",
   "execution_count": 23,
   "id": "d353bd38",
   "metadata": {
    "execution": {
     "iopub.execute_input": "2024-10-15T22:51:58.718227Z",
     "iopub.status.busy": "2024-10-15T22:51:58.716932Z",
     "iopub.status.idle": "2024-10-15T22:51:58.726016Z",
     "shell.execute_reply": "2024-10-15T22:51:58.724834Z"
    },
    "papermill": {
     "duration": 0.022932,
     "end_time": "2024-10-15T22:51:58.728482",
     "exception": false,
     "start_time": "2024-10-15T22:51:58.705550",
     "status": "completed"
    },
    "tags": []
   },
   "outputs": [],
   "source": [
    "def train(model,loader,lr,momentum,num_epochs=10):\n",
    "    epoch_losses = []\n",
    "    optimizer = optim.SGD(model.parameters(),lr = lr,momentum=momentum)\n",
    "    criterion = nn.BCEWithLogitsLoss()\n",
    "    \n",
    "    model.train()\n",
    "    \n",
    "    for epoch in range(num_epochs):\n",
    "        total_loss=0.0\n",
    "        for batch in loader: \n",
    "            optimizer.zero_grad()\n",
    "            inputs,targets = batch\n",
    "            outputs = model(inputs)\n",
    "            targets = targets.unsqueeze(1)\n",
    "            #print(outputs)\n",
    "            #print(targets)\n",
    "            loss = criterion(outputs,targets)\n",
    "            #backprop\n",
    "            loss.backward()\n",
    "            #update\n",
    "            optimizer.step()\n",
    "            #print(loss.item())\n",
    "            total_loss +=loss.item()    \n",
    "        epoch_losses.append(total_loss/len(loader))\n",
    "            # Print the mean loss for this epoch\n",
    "        print(f\"Epoch {epoch+1}/{num_epochs}, Mean Loss: {total_loss/len(loader):.4f}\")\n",
    "    return model"
   ]
  },
  {
   "cell_type": "code",
   "execution_count": 24,
   "id": "0feebec5",
   "metadata": {
    "execution": {
     "iopub.execute_input": "2024-10-15T22:51:58.751072Z",
     "iopub.status.busy": "2024-10-15T22:51:58.750161Z",
     "iopub.status.idle": "2024-10-15T22:52:13.288457Z",
     "shell.execute_reply": "2024-10-15T22:52:13.287299Z"
    },
    "papermill": {
     "duration": 14.552632,
     "end_time": "2024-10-15T22:52:13.291098",
     "exception": false,
     "start_time": "2024-10-15T22:51:58.738466",
     "status": "completed"
    },
    "tags": []
   },
   "outputs": [
    {
     "name": "stdout",
     "output_type": "stream",
     "text": [
      "Epoch 1/50, Mean Loss: 0.6958\n",
      "Epoch 2/50, Mean Loss: 0.6936\n",
      "Epoch 3/50, Mean Loss: 0.6936\n",
      "Epoch 4/50, Mean Loss: 0.6936\n",
      "Epoch 5/50, Mean Loss: 0.6937\n",
      "Epoch 6/50, Mean Loss: 0.6934\n",
      "Epoch 7/50, Mean Loss: 0.6932\n",
      "Epoch 8/50, Mean Loss: 0.6933\n",
      "Epoch 9/50, Mean Loss: 0.6933\n",
      "Epoch 10/50, Mean Loss: 0.6935\n",
      "Epoch 11/50, Mean Loss: 0.6940\n",
      "Epoch 12/50, Mean Loss: 0.6933\n",
      "Epoch 13/50, Mean Loss: 0.6935\n",
      "Epoch 14/50, Mean Loss: 0.6930\n",
      "Epoch 15/50, Mean Loss: 0.6932\n",
      "Epoch 16/50, Mean Loss: 0.6930\n",
      "Epoch 17/50, Mean Loss: 0.6928\n",
      "Epoch 18/50, Mean Loss: 0.6929\n",
      "Epoch 19/50, Mean Loss: 0.6927\n",
      "Epoch 20/50, Mean Loss: 0.6924\n",
      "Epoch 21/50, Mean Loss: 0.6921\n",
      "Epoch 22/50, Mean Loss: 0.6918\n",
      "Epoch 23/50, Mean Loss: 0.6908\n",
      "Epoch 24/50, Mean Loss: 0.6894\n",
      "Epoch 25/50, Mean Loss: 0.6859\n",
      "Epoch 26/50, Mean Loss: 0.6779\n",
      "Epoch 27/50, Mean Loss: 0.6501\n",
      "Epoch 28/50, Mean Loss: 0.5342\n",
      "Epoch 29/50, Mean Loss: 0.3849\n",
      "Epoch 30/50, Mean Loss: 0.3594\n",
      "Epoch 31/50, Mean Loss: 0.3587\n",
      "Epoch 32/50, Mean Loss: 0.3420\n",
      "Epoch 33/50, Mean Loss: 0.3332\n",
      "Epoch 34/50, Mean Loss: 0.3325\n",
      "Epoch 35/50, Mean Loss: 0.3267\n",
      "Epoch 36/50, Mean Loss: 0.3270\n",
      "Epoch 37/50, Mean Loss: 0.3258\n",
      "Epoch 38/50, Mean Loss: 0.3142\n",
      "Epoch 39/50, Mean Loss: 0.3202\n",
      "Epoch 40/50, Mean Loss: 0.3138\n",
      "Epoch 41/50, Mean Loss: 0.3095\n",
      "Epoch 42/50, Mean Loss: 0.3039\n",
      "Epoch 43/50, Mean Loss: 0.2991\n",
      "Epoch 44/50, Mean Loss: 0.3032\n",
      "Epoch 45/50, Mean Loss: 0.3096\n",
      "Epoch 46/50, Mean Loss: 0.2987\n",
      "Epoch 47/50, Mean Loss: 0.2924\n",
      "Epoch 48/50, Mean Loss: 0.2914\n",
      "Epoch 49/50, Mean Loss: 0.2932\n",
      "Epoch 50/50, Mean Loss: 0.2895\n"
     ]
    }
   ],
   "source": [
    "model = train(model,train_loader,lr=1e-3,momentum=0.96,num_epochs=50)"
   ]
  },
  {
   "cell_type": "markdown",
   "id": "260d8d62",
   "metadata": {
    "papermill": {
     "duration": 0.012572,
     "end_time": "2024-10-15T22:52:13.317245",
     "exception": false,
     "start_time": "2024-10-15T22:52:13.304673",
     "status": "completed"
    },
    "tags": []
   },
   "source": [
    "Accuracy calculation"
   ]
  },
  {
   "cell_type": "code",
   "execution_count": null,
   "id": "69023e9b",
   "metadata": {
    "papermill": {
     "duration": 0.012634,
     "end_time": "2024-10-15T22:52:13.342842",
     "exception": false,
     "start_time": "2024-10-15T22:52:13.330208",
     "status": "completed"
    },
    "tags": []
   },
   "outputs": [],
   "source": []
  },
  {
   "cell_type": "code",
   "execution_count": 25,
   "id": "f1fbbe09",
   "metadata": {
    "execution": {
     "iopub.execute_input": "2024-10-15T22:52:13.370372Z",
     "iopub.status.busy": "2024-10-15T22:52:13.369913Z",
     "iopub.status.idle": "2024-10-15T22:52:15.918057Z",
     "shell.execute_reply": "2024-10-15T22:52:15.916371Z"
    },
    "papermill": {
     "duration": 2.565017,
     "end_time": "2024-10-15T22:52:15.920692",
     "exception": false,
     "start_time": "2024-10-15T22:52:13.355675",
     "status": "completed"
    },
    "tags": []
   },
   "outputs": [
    {
     "name": "stdout",
     "output_type": "stream",
     "text": [
      "Accuracy: 0.8889\n"
     ]
    }
   ],
   "source": [
    "import torchmetrics\n",
    "device='cpu'\n",
    "# Initialize accuracy metric for binary classification\n",
    "accuracy_metric = torchmetrics.Accuracy(task='binary').to(device)\n",
    "\n",
    "# Set model to evaluation mode\n",
    "model.eval()\n",
    "\n",
    "all_preds = []\n",
    "all_targets = []\n",
    "\n",
    "with torch.no_grad():\n",
    "    for inputs, targets in train_loader:\n",
    "        # Move inputs and targets to the same device as the model\n",
    "        inputs, targets = inputs.to(device), targets.to(device)\n",
    "\n",
    "        # Forward pass: Get model predictions\n",
    "        preds = model(inputs)\n",
    "\n",
    "        # Apply sigmoid to convert logits to probabilities\n",
    "        probs = torch.sigmoid(preds)\n",
    "\n",
    "        # Convert probabilities to binary class predictions (0 or 1)\n",
    "        preds_class = (probs >= 0.5).float()\n",
    "\n",
    "        # Update accuracy metric\n",
    "        accuracy_metric.update(preds_class, targets.unsqueeze(1))\n",
    "\n",
    "# Compute final accuracy\n",
    "accuracy = accuracy_metric.compute()\n",
    "\n",
    "print(f\"Accuracy: {accuracy.item():.4f}\")\n"
   ]
  },
  {
   "cell_type": "code",
   "execution_count": 26,
   "id": "d5e77942",
   "metadata": {
    "execution": {
     "iopub.execute_input": "2024-10-15T22:52:15.949291Z",
     "iopub.status.busy": "2024-10-15T22:52:15.948214Z",
     "iopub.status.idle": "2024-10-15T22:52:15.956586Z",
     "shell.execute_reply": "2024-10-15T22:52:15.955423Z"
    },
    "papermill": {
     "duration": 0.025128,
     "end_time": "2024-10-15T22:52:15.958967",
     "exception": false,
     "start_time": "2024-10-15T22:52:15.933839",
     "status": "completed"
    },
    "tags": []
   },
   "outputs": [],
   "source": [
    "import torchmetrics\n",
    "def accuracy_score(model,train_loader):    \n",
    "    device='cpu'\n",
    "    # Initialize accuracy metric for binary classification\n",
    "    accuracy_metric = torchmetrics.Accuracy(task='binary').to(device)\n",
    "\n",
    "    # Set model to evaluation mode\n",
    "    model.eval()\n",
    "\n",
    "    all_preds = []\n",
    "    all_targets = []\n",
    "\n",
    "    with torch.no_grad():\n",
    "        for inputs, targets in train_loader:\n",
    "            # Move inputs and targets to the same device as the model\n",
    "            inputs, targets = inputs.to(device), targets.to(device)\n",
    "\n",
    "            # Forward pass: Get model predictions\n",
    "            preds = model(inputs)\n",
    "\n",
    "            # Apply sigmoid to convert logits to probabilities\n",
    "            probs = torch.sigmoid(preds)\n",
    "\n",
    "            # Convert probabilities to binary class predictions (0 or 1)\n",
    "            preds_class = (probs >= 0.5).float()\n",
    "\n",
    "            # Update accuracy metric\n",
    "            accuracy_metric.update(preds_class, targets.unsqueeze(1))\n",
    "\n",
    "    # Compute final accuracy\n",
    "    accuracy = accuracy_metric.compute()\n",
    "\n",
    "    print(f\"Accuracy: {accuracy.item():.4f}\")\n"
   ]
  },
  {
   "cell_type": "code",
   "execution_count": 27,
   "id": "cb48c510",
   "metadata": {
    "execution": {
     "iopub.execute_input": "2024-10-15T22:52:15.987257Z",
     "iopub.status.busy": "2024-10-15T22:52:15.986379Z",
     "iopub.status.idle": "2024-10-15T22:52:16.140105Z",
     "shell.execute_reply": "2024-10-15T22:52:16.138727Z"
    },
    "papermill": {
     "duration": 0.170692,
     "end_time": "2024-10-15T22:52:16.142687",
     "exception": false,
     "start_time": "2024-10-15T22:52:15.971995",
     "status": "completed"
    },
    "tags": []
   },
   "outputs": [
    {
     "name": "stdout",
     "output_type": "stream",
     "text": [
      "Accuracy: 0.8889\n"
     ]
    }
   ],
   "source": [
    "accuracy_score(model,train_loader)"
   ]
  },
  {
   "cell_type": "code",
   "execution_count": 28,
   "id": "1cb43fcf",
   "metadata": {
    "execution": {
     "iopub.execute_input": "2024-10-15T22:52:16.171434Z",
     "iopub.status.busy": "2024-10-15T22:52:16.170983Z",
     "iopub.status.idle": "2024-10-15T22:52:16.216843Z",
     "shell.execute_reply": "2024-10-15T22:52:16.215692Z"
    },
    "papermill": {
     "duration": 0.06323,
     "end_time": "2024-10-15T22:52:16.219387",
     "exception": false,
     "start_time": "2024-10-15T22:52:16.156157",
     "status": "completed"
    },
    "tags": []
   },
   "outputs": [
    {
     "name": "stdout",
     "output_type": "stream",
     "text": [
      "Accuracy: 0.8462\n"
     ]
    }
   ],
   "source": [
    "accuracy_score(model,valid_loader)"
   ]
  },
  {
   "cell_type": "code",
   "execution_count": null,
   "id": "447c6c92",
   "metadata": {
    "papermill": {
     "duration": 0.013397,
     "end_time": "2024-10-15T22:52:16.245925",
     "exception": false,
     "start_time": "2024-10-15T22:52:16.232528",
     "status": "completed"
    },
    "tags": []
   },
   "outputs": [],
   "source": []
  }
 ],
 "metadata": {
  "kaggle": {
   "accelerator": "none",
   "dataSources": [
    {
     "datasetId": 4461979,
     "sourceId": 7892551,
     "sourceType": "datasetVersion"
    }
   ],
   "dockerImageVersionId": 30786,
   "isGpuEnabled": false,
   "isInternetEnabled": false,
   "language": "python",
   "sourceType": "notebook"
  },
  "kernelspec": {
   "display_name": "Python 3",
   "language": "python",
   "name": "python3"
  },
  "language_info": {
   "codemirror_mode": {
    "name": "ipython",
    "version": 3
   },
   "file_extension": ".py",
   "mimetype": "text/x-python",
   "name": "python",
   "nbconvert_exporter": "python",
   "pygments_lexer": "ipython3",
   "version": "3.10.14"
  },
  "papermill": {
   "default_parameters": {},
   "duration": 30.017746,
   "end_time": "2024-10-15T22:52:17.682893",
   "environment_variables": {},
   "exception": null,
   "input_path": "__notebook__.ipynb",
   "output_path": "__notebook__.ipynb",
   "parameters": {},
   "start_time": "2024-10-15T22:51:47.665147",
   "version": "2.6.0"
  }
 },
 "nbformat": 4,
 "nbformat_minor": 5
}
